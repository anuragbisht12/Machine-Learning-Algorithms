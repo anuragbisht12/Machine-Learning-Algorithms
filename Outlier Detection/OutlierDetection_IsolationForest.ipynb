{
  "nbformat": 4,
  "nbformat_minor": 0,
  "metadata": {
    "colab": {
      "name": "OutlierDetection_IsolationForest.ipynb",
      "provenance": [],
      "collapsed_sections": []
    },
    "kernelspec": {
      "name": "python3",
      "display_name": "Python 3"
    }
  },
  "cells": [
    {
      "cell_type": "markdown",
      "metadata": {
        "id": "j1dNE3d99cIx",
        "colab_type": "text"
      },
      "source": [
        "Isolation Forest\n"
      ]
    },
    {
      "cell_type": "code",
      "metadata": {
        "id": "jeckpqk99ZPM",
        "colab_type": "code",
        "colab": {
          "base_uri": "https://localhost:8080/",
          "height": 67
        },
        "outputId": "e97d3827-2ade-4487-8bf8-c653eb08d4bb"
      },
      "source": [
        "from sklearn.ensemble import IsolationForest\n",
        "import numpy as np\n",
        "X = np.array([[-1, -1], [-2, -1], [-3, -2], [0, 0], [-20, 50], [3, 5]])\n",
        "clf = IsolationForest(n_estimators=10, warm_start=True)\n",
        "clf.fit(X)  # fit 10 trees  \n",
        "clf.set_params(n_estimators=20)  # add 10 more trees  \n",
        "clf.fit(X)  # fit the added trees  "
      ],
      "execution_count": 1,
      "outputs": [
        {
          "output_type": "execute_result",
          "data": {
            "text/plain": [
              "IsolationForest(behaviour='deprecated', bootstrap=False, contamination='auto',\n",
              "                max_features=1.0, max_samples='auto', n_estimators=20,\n",
              "                n_jobs=None, random_state=None, verbose=0, warm_start=True)"
            ]
          },
          "metadata": {
            "tags": []
          },
          "execution_count": 1
        }
      ]
    },
    {
      "cell_type": "code",
      "metadata": {
        "id": "-681qXn09sfc",
        "colab_type": "code",
        "colab": {
          "base_uri": "https://localhost:8080/",
          "height": 34
        },
        "outputId": "35153772-2914-4586-8b76-0e45b38ce980"
      },
      "source": [
        "clf.predict([[0,1],[-500,0]])"
      ],
      "execution_count": 6,
      "outputs": [
        {
          "output_type": "execute_result",
          "data": {
            "text/plain": [
              "array([ 1, -1])"
            ]
          },
          "metadata": {
            "tags": []
          },
          "execution_count": 6
        }
      ]
    }
  ]
}